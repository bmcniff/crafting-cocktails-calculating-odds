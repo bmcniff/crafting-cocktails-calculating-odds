{
 "cells": [
  {
   "cell_type": "markdown",
   "id": "cf1e199c-ccc3-4e50-bdc4-ed2706e259ba",
   "metadata": {},
   "source": [
    "There is a bar in my neighborhood with an interesting premise. One of the pages on their menu states the following:"
   ]
  },
  {
   "cell_type": "markdown",
   "id": "b950fa60-8d60-4089-8bb1-0fc5335e516b",
   "metadata": {},
   "source": [
    "<img src=\"https://images.squarespace-cdn.com/content/v1/623506f9b920e800d3ca41c2/85dcaaea-ecd0-4bcd-a38c-2ea70a61e290/DM.png?format=2500w\" width=\"300\"/>"
   ]
  },
  {
   "cell_type": "markdown",
   "id": "4dceee59-f74b-47a9-a4d6-3f8f49a6b156",
   "metadata": {},
   "source": [
    "To summarize:\n",
    "\n",
    "\"Roll a die with 20 sides.\"\n",
    "\n",
    "\"The number rolled determines which secret cocktail you'll receive. [...]\"\n",
    "\n",
    "\"You may re-roll if you land on something you rolled before, but rolling [any repeat] 3 times in a row means you get that number regardless. [...]\"\n",
    "\n",
    "I remember reading this and immediately being curious about the expected number of drinks one would have to buy to complete this list. Doing some research, I found a puzzle in probability theory called [The Coupon Collector's Problem](https://en.wikipedia.org/wiki/Coupon_collector%27s_problem), which presented a very similar question: \"Given n coupons, how many coupons do you expect you need to draw with replacement before having drawn each coupon at least once?\"\n",
    "\n",
    "The good news is that there is an equation to solve this:\n",
    "\n",
    "$$\\sum_{i=1}^{n}\\frac{1}{\\frac{(n-i)}{n}}$$\n",
    "<p style=\"text-align: center;\">(where n = number of unique coupons)</p>\n",
    "\n",
    "Let's break this down and start simple with the innermost part, which gives us the probability of getting a new coupon when we've already got <i>i</i> out of <i>n</i> coupons:\n",
    "\n",
    "$$\\frac{(n-i)}{n}$$\n",
    "\n",
    "For example if we've already got <b><i>i = 15</i></b> out of a total <b><i>n = 20</i></b>, then we can expect a 25% chance of getting a new number on our next pull. We can also express the expected number of attempts as the inverse of this probability:\n",
    "\n",
    "$$\\frac{1}{\\frac{(n-i)}{n}}$$\n",
    "\n",
    "In our case of <b><i>i = 15</i></b>, it would take an average 1.33 times (20/15) to get a new number. From here we can just sum all of the numbers we would need, which would be 1 through <b><i>n</i></b>:\n",
    "\n",
    "$$\\sum_{i=1}^{n}\\frac{1}{\\frac{(n-i)}{n}}$$\n",
    "\n",
    "We're now close to the equation we'd need, but with one complication - we have three attempts on each trial to get a new drink (or coupon). To calculate this, we'll need to figure out the probability of <i>not</i> getting  a new number in three rolls, and take the compliment of that, which can be done as follows:\n",
    "\n",
    "$${1-(1-(\\frac{(n-i)}{n}))^3}$$\n",
    "\n",
    "We can now replace our original term in the denominator with this new one, and we have our equation!\n",
    "\n",
    "$$\\sum_{i=1}^{n}\\frac{1}{1-(1-(\\frac{(n-i)}{n}))^3}$$\n",
    "\n",
    "Let's code this up in Python so we can try experimenting with it a bit. We'll start with writing a function to calculate the probability of getting your <i>i<sup>th</sup></i> drink on the next roll."
   ]
  },
  {
   "cell_type": "code",
   "execution_count": 8,
   "id": "903ca11d-69f8-4276-90f1-e063c55a41c1",
   "metadata": {},
   "outputs": [],
   "source": [
    "def prob_of_new_number(n_already_rolled):\n",
    "    return 1 - (1 - ((20 - n_already_rolled)/20))**3"
   ]
  },
  {
   "cell_type": "markdown",
   "id": "caa414b8-6a03-4588-a5d2-c0b8a85313c7",
   "metadata": {},
   "source": [
    "From here we can iterate through each number one would need to complete their card (1-20). By taking the sum of the reciprocals we get the total number of drinks on average that would be required to complete this challenge."
   ]
  },
  {
   "cell_type": "code",
   "execution_count": 28,
   "id": "3ab8d053-a02c-4d7b-bd11-b98922fa28fc",
   "metadata": {},
   "outputs": [
    {
     "name": "stdout",
     "output_type": "stream",
     "text": [
      "Expected number of trials: 33.9\n"
     ]
    }
   ],
   "source": [
    "expected_trials = []\n",
    "\n",
    "for i in range(20):\n",
    "    expected_trials.append(1/prob_of_new_number(i))\n",
    "\n",
    "print('Expected number of trials: {:.1f}'.format(sum(expected_trials),1))"
   ]
  },
  {
   "cell_type": "markdown",
   "id": "8a318488-469c-4dbd-bf96-39ccac74f67b",
   "metadata": {},
   "source": [
    "This number surprised me, my guess was closer to 50 while building this out. \n",
    "\n",
    "As a sanity check, let's also build out a script that simulates customers, each of which rolls for every number and tracks their progress. This will be completely independent from the equation above, so we hope to see a similar number."
   ]
  },
  {
   "cell_type": "code",
   "execution_count": 47,
   "id": "9fbad473-6f26-4d83-b114-2fbbe0e72c01",
   "metadata": {},
   "outputs": [],
   "source": [
    "import random\n",
    "import math\n",
    "import numpy as np\n",
    "\n",
    "random.seed(1)\n",
    "\n",
    "def run_sim():\n",
    "    numbers_already_rolled = []\n",
    "    tries_left = 3\n",
    "    number_of_trials = 0\n",
    "    \n",
    "    while len(numbers_already_rolled) < 20:\n",
    "        current_roll = random.randint(1,20)\n",
    "        if current_roll not in numbers_already_rolled:\n",
    "            numbers_already_rolled.append(current_roll)\n",
    "            tries_left = 3\n",
    "            number_of_trials += 1\n",
    "        elif tries_left > 1:\n",
    "            tries_left -= 1\n",
    "        else:\n",
    "            tries_left = 3\n",
    "            number_of_trials += 1\n",
    "    \n",
    "    return number_of_trials"
   ]
  },
  {
   "cell_type": "markdown",
   "id": "36fc8f31-d481-49cd-813c-7b7980802dc8",
   "metadata": {},
   "source": [
    "Let's run this for 100,000 simulated customers and see where we land."
   ]
  },
  {
   "cell_type": "code",
   "execution_count": 30,
   "id": "36ad994c-008c-45e4-b6ca-017aa225a392",
   "metadata": {},
   "outputs": [
    {
     "name": "stdout",
     "output_type": "stream",
     "text": [
      "Mean expected trials: 33.9\n"
     ]
    }
   ],
   "source": [
    "outcomes = []\n",
    "\n",
    "for _ in range(100000):\n",
    "    outcomes.append(run_sim()) \n",
    "    \n",
    "sim_number_of_trials = np.mean(outcomes)\n",
    "print('Mean expected trials: {:.1f}'.format(sim_number_of_trials))"
   ]
  },
  {
   "cell_type": "markdown",
   "id": "3d14b5ab-5cae-43fb-92b1-8d2d592d2566",
   "metadata": {},
   "source": [
    "Looks spot on! It's good to see we're hitting 33.9 (realistically 34) with both strategies. Also curious to see what the distribution looks like here."
   ]
  },
  {
   "cell_type": "code",
   "execution_count": 50,
   "id": "f907ae25-88dd-420b-a1f9-32c903b88cd0",
   "metadata": {},
   "outputs": [
    {
     "data": {
      "image/png": "[encoded data removed]",
      "text/plain": [
       "<Figure size 432x288 with 1 Axes>"
      ]
     },
     "metadata": {
      "needs_background": "light"
     },
     "output_type": "display_data"
    }
   ],
   "source": [
    "import matplotlib.pyplot as plt\n",
    "plt.hist(outcomes, bins=20, color='#05D9D6') \n",
    "plt.show()"
   ]
  },
  {
   "cell_type": "markdown",
   "id": "8001d3f5-52f3-4f58-921e-51cd5f494c87",
   "metadata": {},
   "source": [
    "Some lucky individuals managed to get all 20 within 25 attempts! Alternatively, some poor souls are still waiting to get all 20 drinks at their 80th attempts, yikes.\n",
    "\n",
    "Lastly, it would be great to know how much money this experience is expected to cost over time. To be thorough, we'll also include the MA state tax of 6.25% and a 20% tip."
   ]
  },
  {
   "cell_type": "code",
   "execution_count": 48,
   "id": "5efd2d3b-b155-443c-8e2b-ac549fbac5cf",
   "metadata": {},
   "outputs": [
    {
     "name": "stdout",
     "output_type": "stream",
     "text": [
      "Total cost ($16 per drink, plus tip and tax): $686.80\n"
     ]
    }
   ],
   "source": [
    "print('Total cost ($16 per drink, plus tip and tax): ${:.2f}'.format(math.ceil(sim_number_of_trials) * 16 * 1.2625))"
   ]
  },
  {
   "cell_type": "markdown",
   "id": "1a78f1ab-cc30-4881-ab70-3730c7b4c67d",
   "metadata": {},
   "source": [
    "There we have it! One can expect to spend $686.80 on average to complete this. I'll leave it to the reader whether or not to consider this financially responsible, although access to a secret menu afterwards makes this all the more tempting."
   ]
  },
  {
   "cell_type": "code",
   "execution_count": null,
   "id": "d5ba36eb-9d4d-4c7a-b902-1f69db1b71cd",
   "metadata": {},
   "outputs": [],
   "source": []
  }
 ],
 "metadata": {
  "kernelspec": {
   "display_name": "Python 3 (ipykernel)",
   "language": "python",
   "name": "python3"
  },
  "language_info": {
   "codemirror_mode": {
    "name": "ipython",
    "version": 3
   },
   "file_extension": ".py",
   "mimetype": "text/x-python",
   "name": "python",
   "nbconvert_exporter": "python",
   "pygments_lexer": "ipython3",
   "version": "3.9.7"
  }
 },
 "nbformat": 4,
 "nbformat_minor": 5
}
